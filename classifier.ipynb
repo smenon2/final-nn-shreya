{
 "cells": [
  {
   "cell_type": "code",
   "execution_count": 1,
   "id": "4a73a563-754f-4f60-8007-a2621bf62576",
   "metadata": {},
   "outputs": [],
   "source": [
    "# Load in the dependencies\n",
    "\n",
    "%load_ext autoreload\n",
    "%autoreload 2\n",
    "from nn import nn, io, preprocess\n",
    "import numpy as np\n",
    "from sklearn.datasets import load_digits\n",
    "from sklearn.model_selection import train_test_split\n",
    "from sklearn.metrics import mean_squared_error\n",
    "import matplotlib.pyplot as plt"
   ]
  },
  {
   "cell_type": "markdown",
   "id": "cda503e8-afb9-4c6b-8071-6e621663a854",
   "metadata": {},
   "source": [
    "I will first read in the data. We then have to make the negative examples the same sequence lengths as the positive examples. All of the positive examples have 17bp so I'll just loop through the negative sequences and create 17bp sub-sequences. "
   ]
  },
  {
   "cell_type": "code",
   "execution_count": 2,
   "id": "9a5ee693-ebe2-4904-a4ea-c71548443454",
   "metadata": {},
   "outputs": [
    {
     "name": "stdout",
     "output_type": "stream",
     "text": [
      "Positive examples: 137\n",
      "Negative examples: 183296\n"
     ]
    }
   ],
   "source": [
    "positives = io.read_text_file(\"data/rap1-lieb-positives.txt\")\n",
    "negatives = io.read_fasta_file(\"data/yeast-upstream-1k-negative.fa\")\n",
    "\n",
    "\n",
    "# Make the negative sequences the same length as the positive sequences \n",
    "# We see that each of the positive sequences is 17bp \n",
    "\n",
    "seq_length = len(positives[0])\n",
    "negative_trimmed = []\n",
    "for s in negatives:\n",
    "    seq = str()\n",
    "    for i in range(len(s)):\n",
    "        seq = seq + s[i] \n",
    "        \n",
    "        if i > 0 and i % seq_length == 0:\n",
    "            negative_trimmed.append(seq)\n",
    "            seq = str()\n",
    "    \n",
    "# Combine and create labels\n",
    "sequences = positives + negative_trimmed\n",
    "labels = [True] * len(positives) + [False] * len(negative_trimmed)\n",
    "\n",
    "# ensure each example has proper number of base pairs\n",
    "sequences = [s[:seq_length] for s in sequences]\n",
    "\n",
    "# Print counts\n",
    "print(\"Positive examples:\", len(positives))\n",
    "print(\"Negative examples:\", len(negative_trimmed))"
   ]
  },
  {
   "cell_type": "markdown",
   "id": "58dd09a4-60cb-4bc1-9315-e556b07f0ebe",
   "metadata": {},
   "source": [
    "We then see that we have to subsample such that we equal number of examples for both positive and negative sequences. I chose to implement a function that upsamples the smaller class. I think this makes sense here because there are so few positive examples - so if I were to downsample the bigger class, there would be too few examples to train (fewer after splitting between training and validation). This will increase the number of positive examples and overall number of labeled examples available. "
   ]
  },
  {
   "cell_type": "code",
   "execution_count": 3,
   "id": "68e3699b-3d13-4e28-8cc1-b0e564a137b2",
   "metadata": {},
   "outputs": [
    {
     "name": "stdout",
     "output_type": "stream",
     "text": [
      "Seq shapes (366592,)\n",
      "Label shapes (366592,)\n"
     ]
    }
   ],
   "source": [
    "seqs, labels = preprocess.sample_seqs(np.array(sequences), np.array(labels))\n",
    "print(\"Seq shapes\", seqs.shape)\n",
    "print(\"Label shapes\", labels.shape)"
   ]
  },
  {
   "cell_type": "markdown",
   "id": "670a2810-6aef-49aa-b198-360c643543bb",
   "metadata": {
    "jupyter": {
     "outputs_hidden": true
    },
    "tags": []
   },
   "source": [
    "Now we will one hot encode the sequences. "
   ]
  },
  {
   "cell_type": "code",
   "execution_count": 4,
   "id": "d62b3564-4fb0-4262-ac44-1517c1e7386c",
   "metadata": {},
   "outputs": [],
   "source": [
    "X = preprocess.one_hot_encode_seqs(seqs)"
   ]
  },
  {
   "cell_type": "code",
   "execution_count": 5,
   "id": "e63cda4c-790f-4a47-84f7-41c1e996f026",
   "metadata": {},
   "outputs": [
    {
     "data": {
      "text/plain": [
       "array([[1, 0, 0, ..., 1, 0, 0],\n",
       "       [1, 0, 0, ..., 1, 0, 0],\n",
       "       [1, 0, 0, ..., 1, 0, 0],\n",
       "       ...,\n",
       "       [0, 0, 0, ..., 0, 0, 1],\n",
       "       [0, 0, 1, ..., 0, 0, 0],\n",
       "       [0, 1, 0, ..., 0, 0, 0]])"
      ]
     },
     "execution_count": 5,
     "metadata": {},
     "output_type": "execute_result"
    }
   ],
   "source": [
    "X"
   ]
  },
  {
   "cell_type": "markdown",
   "id": "aa11e609-2524-4e84-bf98-fa6ea5fa8b0d",
   "metadata": {},
   "source": [
    "Now, we can split the data into training and testing sets. I just use the sklearn train_test_split function to do this. "
   ]
  },
  {
   "cell_type": "code",
   "execution_count": 6,
   "id": "01b1aedc-9084-40a6-bfe9-5cf8de42a199",
   "metadata": {},
   "outputs": [],
   "source": [
    "X_train, X_test, y_train, y_test = train_test_split(X, np.array(labels), test_size = 0.2, random_state = 0)"
   ]
  },
  {
   "cell_type": "markdown",
   "id": "8c818f2f-c5f3-468e-b1a7-9c4bef7cf3a9",
   "metadata": {},
   "source": [
    "Now, I create a tuning grid with different hyperparameter values. I will loop through all of the different combinations, fit a model and then select the best model. I chose to a sigmoid activation since it is designed for binary classification. Similarly, a binary cross entropy is also designed for classification tasks. I tested a few different layer architecture and didn't seem to matter too much so I just chose the architecture that I've seen before (where you half the number of nodes with each layer - see https://towardsdatascience.com/17-rules-of-thumb-for-building-a-neural-network-93356f9930af). "
   ]
  },
  {
   "cell_type": "code",
   "execution_count": 12,
   "id": "adce4402-a6e1-448e-8fa8-c4ae2496ef97",
   "metadata": {},
   "outputs": [],
   "source": [
    "lr_grid = [1e-4, 1e-5, 1e-6]\n",
    "batch_grid = [10, 50, 500]\n",
    "epochs_grid = [5, 10, 20]\n",
    "\n",
    "comb_array = np.array(np.meshgrid(lr_grid, batch_grid, epochs_grid)).T.reshape(-1, 3)\n",
    "layers = [{\"input_dim\": 68, \"output_dim\": 34, \"activation\": \"sigmoid\"},\n",
    "          {\"input_dim\": 34, \"output_dim\": 17, \"activation\": \"sigmoid\"},\n",
    "          {\"input_dim\": 17, \"output_dim\": 1, \"activation\": \"sigmoid\"},]\n",
    "\n",
    "# Need to reshape the y values in order to fit through net\n",
    "y_train = y_train.reshape(-1, 1)\n",
    "y_test = y_test.reshape(-1, 1)"
   ]
  },
  {
   "cell_type": "markdown",
   "id": "51f322d9-4147-4439-998a-1c02b81d2ec1",
   "metadata": {},
   "source": [
    "Looping through tune grid (I had to stop this early since it was taking too long - but I went through a good number of parameters and they don't seem to make too much of a difference)"
   ]
  },
  {
   "cell_type": "code",
   "execution_count": 14,
   "id": "779004ee-972c-44ee-9c8b-52b41172cd52",
   "metadata": {},
   "outputs": [
    {
     "name": "stdout",
     "output_type": "stream",
     "text": [
      "2\n",
      "4\n",
      "6\n",
      "8\n",
      "10\n",
      "12\n",
      "14\n",
      "16\n",
      "18\n",
      "20\n",
      "22\n",
      "24\n",
      "26\n",
      "28\n"
     ]
    },
    {
     "ename": "KeyboardInterrupt",
     "evalue": "",
     "output_type": "error",
     "traceback": [
      "\u001b[0;31m---------------------------------------------------------------------------\u001b[0m",
      "\u001b[0;31mKeyboardInterrupt\u001b[0m                         Traceback (most recent call last)",
      "Cell \u001b[0;32mIn[14], line 9\u001b[0m\n\u001b[1;32m      7\u001b[0m epochs \u001b[38;5;241m=\u001b[39m \u001b[38;5;28mint\u001b[39m(i[\u001b[38;5;241m2\u001b[39m])\n\u001b[1;32m      8\u001b[0m net \u001b[38;5;241m=\u001b[39m nn\u001b[38;5;241m.\u001b[39mNeuralNetwork(layers, lr \u001b[38;5;241m=\u001b[39m lr, seed \u001b[38;5;241m=\u001b[39m \u001b[38;5;241m42\u001b[39m, batch_size \u001b[38;5;241m=\u001b[39m batch_size, epochs \u001b[38;5;241m=\u001b[39m epochs, loss_function \u001b[38;5;241m=\u001b[39m \u001b[38;5;124m\"\u001b[39m\u001b[38;5;124mbce\u001b[39m\u001b[38;5;124m\"\u001b[39m)\n\u001b[0;32m----> 9\u001b[0m train_losses, val_losses \u001b[38;5;241m=\u001b[39m \u001b[43mnet\u001b[49m\u001b[38;5;241;43m.\u001b[39;49m\u001b[43mfit\u001b[49m\u001b[43m(\u001b[49m\u001b[43mX_train\u001b[49m\u001b[43m,\u001b[49m\u001b[43m \u001b[49m\u001b[43my_train\u001b[49m\u001b[43m,\u001b[49m\u001b[43m \u001b[49m\u001b[43mX_test\u001b[49m\u001b[43m,\u001b[49m\u001b[43m \u001b[49m\u001b[43my_test\u001b[49m\u001b[43m)\u001b[49m\n\u001b[1;32m     10\u001b[0m \u001b[38;5;66;03m# We want to save the test loss for the last epoch\u001b[39;00m\n\u001b[1;32m     11\u001b[0m test_loss \u001b[38;5;241m=\u001b[39m val_losses[\u001b[38;5;241m-\u001b[39m\u001b[38;5;241m1\u001b[39m]\n",
      "File \u001b[0;32m~/Desktop/BMI203/final-nn-shreya/nn/nn.py:350\u001b[0m, in \u001b[0;36mNeuralNetwork.fit\u001b[0;34m(self, X_train, y_train, X_val, y_val)\u001b[0m\n\u001b[1;32m    348\u001b[0m     \u001b[38;5;66;03m# Backprop and update parameters\u001b[39;00m\n\u001b[1;32m    349\u001b[0m     grad_dict \u001b[38;5;241m=\u001b[39m \u001b[38;5;28mself\u001b[39m\u001b[38;5;241m.\u001b[39mbackprop(y_train_batch, output, cache)\n\u001b[0;32m--> 350\u001b[0m     \u001b[38;5;28;43mself\u001b[39;49m\u001b[38;5;241;43m.\u001b[39;49m\u001b[43m_update_params\u001b[49m\u001b[43m(\u001b[49m\u001b[43mgrad_dict\u001b[49m\u001b[43m)\u001b[49m\n\u001b[1;32m    352\u001b[0m \u001b[38;5;66;03m# Find average training loss and append to list\u001b[39;00m\n\u001b[1;32m    353\u001b[0m avg_training_loss \u001b[38;5;241m=\u001b[39m np\u001b[38;5;241m.\u001b[39mmean(training_loss)\n",
      "File \u001b[0;32m~/Desktop/BMI203/final-nn-shreya/nn/nn.py:280\u001b[0m, in \u001b[0;36mNeuralNetwork._update_params\u001b[0;34m(self, grad_dict)\u001b[0m\n\u001b[1;32m    278\u001b[0m layer_idx \u001b[38;5;241m=\u001b[39m idx \u001b[38;5;241m+\u001b[39m \u001b[38;5;241m1\u001b[39m\n\u001b[1;32m    279\u001b[0m \u001b[38;5;28mself\u001b[39m\u001b[38;5;241m.\u001b[39m_param_dict[\u001b[38;5;124m\"\u001b[39m\u001b[38;5;124mW\u001b[39m\u001b[38;5;124m\"\u001b[39m \u001b[38;5;241m+\u001b[39m \u001b[38;5;28mstr\u001b[39m(layer_idx)] \u001b[38;5;241m-\u001b[39m\u001b[38;5;241m=\u001b[39m \u001b[38;5;28mself\u001b[39m\u001b[38;5;241m.\u001b[39m_lr \u001b[38;5;241m*\u001b[39m grad_dict[\u001b[38;5;124m\"\u001b[39m\u001b[38;5;124mdw\u001b[39m\u001b[38;5;124m\"\u001b[39m \u001b[38;5;241m+\u001b[39m \u001b[38;5;28mstr\u001b[39m(layer_idx)]\n\u001b[0;32m--> 280\u001b[0m \u001b[38;5;28mself\u001b[39m\u001b[38;5;241m.\u001b[39m_param_dict[\u001b[38;5;124m\"\u001b[39m\u001b[38;5;124mb\u001b[39m\u001b[38;5;124m\"\u001b[39m \u001b[38;5;241m+\u001b[39m \u001b[38;5;28;43mstr\u001b[39;49m\u001b[43m(\u001b[49m\u001b[43mlayer_idx\u001b[49m\u001b[43m)\u001b[49m] \u001b[38;5;241m-\u001b[39m\u001b[38;5;241m=\u001b[39m \u001b[38;5;28mself\u001b[39m\u001b[38;5;241m.\u001b[39m_lr \u001b[38;5;241m*\u001b[39m grad_dict[\u001b[38;5;124m\"\u001b[39m\u001b[38;5;124mdb\u001b[39m\u001b[38;5;124m\"\u001b[39m \u001b[38;5;241m+\u001b[39m \u001b[38;5;28mstr\u001b[39m(layer_idx)]\n",
      "\u001b[0;31mKeyboardInterrupt\u001b[0m: "
     ]
    }
   ],
   "source": [
    "tune_grid = []\n",
    "count = 0\n",
    "for i in comb_array:\n",
    "    count += 1 \n",
    "    lr = i[0]\n",
    "    batch_size = i[1]\n",
    "    epochs = int(i[2])\n",
    "    net = nn.NeuralNetwork(layers, lr = lr, seed = 42, batch_size = batch_size, epochs = epochs, loss_function = \"bce\")\n",
    "    train_losses, val_losses = net.fit(X_train, y_train, X_test, y_test)\n",
    "    # We want to save the test loss for the last epoch\n",
    "    test_loss = val_losses[-1]\n",
    "    tune_grid.append([lr, batch_size, epochs, test_loss])\n",
    "    if count % 2 == 0 :\n",
    "        print(count)\n"
   ]
  },
  {
   "cell_type": "code",
   "execution_count": 15,
   "id": "f6783607-df80-4457-8e60-85c6bf444b94",
   "metadata": {},
   "outputs": [
    {
     "name": "stdout",
     "output_type": "stream",
     "text": [
      "Least MSE on validation data: 0.22315567778606415\n",
      "The optimal parameters:lr, batch_size, epochs, test loss: [1.00000000e-04 1.00000000e+01 2.00000000e+01 2.23155678e-01]\n"
     ]
    }
   ],
   "source": [
    "grid = np.array(tune_grid)\n",
    "min_key = np.argmin(grid[:,3])\n",
    "print(\"Least MSE on validation data:\", grid[:,3][min_key])\n",
    "best_para=grid[min_key]\n",
    "print(\"The optimal parameters:lr, batch_size, epochs, test loss:\", best_para)"
   ]
  },
  {
   "cell_type": "code",
   "execution_count": 17,
   "id": "d5c83f3b-bf96-4b80-a06f-8836b503734c",
   "metadata": {},
   "outputs": [],
   "source": [
    "lr = best_para[0]\n",
    "batch_size = best_para[1]\n",
    "epochs = int(best_para[2])\n",
    "net = nn.NeuralNetwork(layers, lr = lr, seed = 42, batch_size = batch_size, epochs = epochs, loss_function = \"mse\")\n",
    "train_losses, val_losses = net.fit(X_train, y_train, X_test, y_test)"
   ]
  },
  {
   "cell_type": "code",
   "execution_count": 19,
   "id": "84118050-f7ff-43a2-a7ef-19eca18c5734",
   "metadata": {},
   "outputs": [
    {
     "data": {
      "image/png": "[encoded data removed]",
      "text/plain": [
       "<Figure size 640x480 with 1 Axes>"
      ]
     },
     "metadata": {},
     "output_type": "display_data"
    }
   ],
   "source": [
    "plt.figure()\n",
    "plt.plot(train_losses)\n",
    "plt.title(\"Training Losses per epoch\")\n",
    "plt.xlabel('Epoch')\n",
    "plt.ylabel('Loss')\n",
    "plt.show()"
   ]
  },
  {
   "cell_type": "code",
   "execution_count": 20,
   "id": "11a58f81-bbd4-4a4e-bef2-299821491450",
   "metadata": {},
   "outputs": [
    {
     "data": {
      "image/png": "[encoded data removed]",
      "text/plain": [
       "<Figure size 640x480 with 1 Axes>"
      ]
     },
     "metadata": {},
     "output_type": "display_data"
    }
   ],
   "source": [
    "plt.figure()\n",
    "plt.plot(val_losses)\n",
    "plt.title(\"Validation Losses per epoch\")\n",
    "plt.xlabel('Epoch')\n",
    "plt.ylabel('Loss')\n",
    "plt.show()"
   ]
  },
  {
   "cell_type": "markdown",
   "id": "144e76ff-dc49-4b8b-a9d3-fef5e30529c0",
   "metadata": {},
   "source": [
    "We can also calculate the validation accuracy of the classifier:"
   ]
  },
  {
   "cell_type": "code",
   "execution_count": 24,
   "id": "a77b025e-7d5e-4f34-bd7d-ba9205735efd",
   "metadata": {},
   "outputs": [
    {
     "name": "stdout",
     "output_type": "stream",
     "text": [
      "Accuracy: 0.9989225166737135\n"
     ]
    }
   ],
   "source": [
    "pred = (net.predict(X_test) >= 0.5).astype(int)\n",
    "accuracy = np.sum(pred == y_test) / len(y_test)\n",
    "print(\"Accuracy:\", accuracy) "
   ]
  },
  {
   "cell_type": "markdown",
   "id": "ea466987-f094-47e6-8170-ca8d89240a43",
   "metadata": {},
   "source": [
    "So, we can see that the validation accuracy is 99.8%. I chose a bce as a loss function because this is for a binary classifier and hence this loss function makes the most sense. I also chose the hyperparameters by trying many different values and choosing the best set of parameters of the values tested. "
   ]
  },
  {
   "cell_type": "code",
   "execution_count": null,
   "id": "d6a45d08-ac07-4ba8-88a8-7147a33a91dd",
   "metadata": {},
   "outputs": [],
   "source": []
  },
  {
   "cell_type": "code",
   "execution_count": null,
   "id": "291dfc60-982e-48a0-958f-36976ece0613",
   "metadata": {},
   "outputs": [],
   "source": []
  },
  {
   "cell_type": "code",
   "execution_count": null,
   "id": "d9562b1e-def6-4e8a-9dec-ce2c69bcdccc",
   "metadata": {},
   "outputs": [],
   "source": []
  },
  {
   "cell_type": "code",
   "execution_count": null,
   "id": "20aa6729-e14a-4302-b8b2-590368402ded",
   "metadata": {},
   "outputs": [],
   "source": []
  },
  {
   "cell_type": "code",
   "execution_count": null,
   "id": "eb6e253f-82bb-4e27-bc42-235f3e56ee87",
   "metadata": {},
   "outputs": [],
   "source": []
  },
  {
   "cell_type": "code",
   "execution_count": null,
   "id": "ecfa8ced-b2d0-43f3-b54e-4391d043475a",
   "metadata": {},
   "outputs": [],
   "source": []
  },
  {
   "cell_type": "code",
   "execution_count": null,
   "id": "c545f1c7-477e-493d-9b9a-d7e3f74df6b1",
   "metadata": {},
   "outputs": [],
   "source": []
  },
  {
   "cell_type": "code",
   "execution_count": null,
   "id": "dd4baf8b-94bc-45e5-8683-89ee0533f580",
   "metadata": {},
   "outputs": [],
   "source": []
  },
  {
   "cell_type": "code",
   "execution_count": null,
   "id": "77e2188a-cbad-47f3-a544-a02954b55d03",
   "metadata": {},
   "outputs": [],
   "source": []
  },
  {
   "cell_type": "code",
   "execution_count": null,
   "id": "4e26996d-d48d-45d8-8304-1a84c2eac04c",
   "metadata": {},
   "outputs": [],
   "source": []
  },
  {
   "cell_type": "code",
   "execution_count": null,
   "id": "18d01e5f-dcd1-4a7a-bc77-7a026ba2e517",
   "metadata": {},
   "outputs": [],
   "source": []
  },
  {
   "cell_type": "code",
   "execution_count": null,
   "id": "4fd212d5-f7eb-4f6a-a999-a87693d9de77",
   "metadata": {},
   "outputs": [],
   "source": []
  },
  {
   "cell_type": "code",
   "execution_count": null,
   "id": "ef818236-bd14-467d-8dd2-20b5013b09e7",
   "metadata": {},
   "outputs": [],
   "source": []
  },
  {
   "cell_type": "code",
   "execution_count": null,
   "id": "e5416974-f742-4095-aa37-39907176abdd",
   "metadata": {},
   "outputs": [],
   "source": []
  },
  {
   "cell_type": "code",
   "execution_count": null,
   "id": "ea3930c8-7827-49a4-943a-e43763825b68",
   "metadata": {},
   "outputs": [],
   "source": []
  }
 ],
 "metadata": {
  "kernelspec": {
   "display_name": "Python [conda env:BMI203]",
   "language": "python",
   "name": "conda-env-BMI203-py"
  },
  "language_info": {
   "codemirror_mode": {
    "name": "ipython",
    "version": 3
   },
   "file_extension": ".py",
   "mimetype": "text/x-python",
   "name": "python",
   "nbconvert_exporter": "python",
   "pygments_lexer": "ipython3",
   "version": "3.10.8"
  }
 },
 "nbformat": 4,
 "nbformat_minor": 5
}
