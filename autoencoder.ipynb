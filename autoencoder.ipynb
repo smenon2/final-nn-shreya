{
 "cells": [
  {
   "cell_type": "markdown",
   "id": "1e91e3b4-79d4-4822-8d40-be44eff2ea90",
   "metadata": {},
   "source": [
    "Autoencoder: Here, I build a 64x16x64 autoencoder that is trained on the sklearn digits dataset. "
   ]
  },
  {
   "cell_type": "code",
   "execution_count": 4,
   "id": "169964cf-e274-46d8-acf2-5aeeb2ba22ff",
   "metadata": {},
   "outputs": [],
   "source": [
    "# First we can load in the dependencies\n",
    "\n",
    "%load_ext autoreload\n",
    "%autoreload 2\n",
    "\n",
    "from nn import nn\n",
    "import numpy as np\n",
    "from sklearn.datasets import load_digits\n",
    "from sklearn.model_selection import train_test_split\n",
    "from sklearn.metrics import mean_squared_error\n",
    "import matplotlib.pyplot as plt"
   ]
  },
  {
   "cell_type": "markdown",
   "id": "f8e8bb0f-65c0-4b34-ae1c-06f6483e45f1",
   "metadata": {},
   "source": [
    "First, I will load in the digits dataset from sklearn. I can then inspect the dataset to see the shape and size of the datatype. "
   ]
  },
  {
   "cell_type": "code",
   "execution_count": 17,
   "id": "fcba54c8-4f00-4223-8b90-d7fa9635e691",
   "metadata": {},
   "outputs": [
    {
     "name": "stdout",
     "output_type": "stream",
     "text": [
      "(1797, 64)\n"
     ]
    }
   ],
   "source": [
    "digits = load_digits()\n",
    "print(digits.data.shape)"
   ]
  },
  {
   "cell_type": "markdown",
   "id": "2e65e671-e3fd-4da7-b865-fb1b249505d6",
   "metadata": {},
   "source": [
    "We can then split the data into a training and validation test. I chose to make the test data a fifth of the size of the training dataset. The size of the training and test data is printed. "
   ]
  },
  {
   "cell_type": "code",
   "execution_count": 18,
   "id": "f82f7a3a-48f5-4be1-b171-3e6d07d13e4d",
   "metadata": {},
   "outputs": [
    {
     "name": "stdout",
     "output_type": "stream",
     "text": [
      "X_train: (1437, 64)\n",
      "X_test: (360, 64)\n",
      "y_train: (1437,)\n",
      "y_test: (360,)\n"
     ]
    }
   ],
   "source": [
    "X_all = digits.data\n",
    "y_all = digits.target\n",
    "X_train, X_test, y_train, y_test = train_test_split(X_all, y_all, test_size=0.2, random_state=0)\n",
    "print(\"X_train:\", X_train.shape)\n",
    "print(\"X_test:\", X_test.shape)\n",
    "print(\"y_train:\", y_train.shape)\n",
    "print(\"y_test:\", y_test.shape)"
   ]
  },
  {
   "cell_type": "markdown",
   "id": "00615912-4857-461c-a7fb-3ca977b26b69",
   "metadata": {},
   "source": [
    "Now, we can set up the architecture of the neural network. I chose to use MSE as the loss function because we want the output to be continuous and not binary. I don't think that we need to have the predictions bound between 0 and 1 since we are interested in reconstructing the pixels that create the digits, so I chose a sigmoid activation for the first layer and no activation for the last layer. I chose a sigmoid activation because after testing both relu and sigmoid activations - I found that a sigmoid activation in the first layer performed better. "
   ]
  },
  {
   "cell_type": "code",
   "execution_count": 25,
   "id": "8016a223-6146-4410-9453-ddb91ede91d2",
   "metadata": {},
   "outputs": [],
   "source": [
    "layers = [{\"input_dim\": 64, \"output_dim\": 16, \"activation\": \"sigmoid\"},\n",
    "          {\"input_dim\": 16, \"output_dim\": 64, \"activation\": \"sigmoid\"}]"
   ]
  },
  {
   "cell_type": "markdown",
   "id": "b193bbdf-b024-45c2-8346-f6eb668e9978",
   "metadata": {},
   "source": [
    "Here, I create a grid of different hyperparameter values. We can then loop through all of these combinations in order to find the optimal hyperparameters. I will fit a model using each set of hyperparameters and store the MSE."
   ]
  },
  {
   "cell_type": "code",
   "execution_count": 26,
   "id": "0afad189-b537-43cf-94cf-2020deccd916",
   "metadata": {},
   "outputs": [],
   "source": [
    "lr_grid = [1e-1, 1e-2, 1e-3, 1e-4, 1e-5, 1e-6]\n",
    "batch_grid = [10, 20, 50, 150, 200, 250, 300, 500, 750, 1000]\n",
    "epochs_grid = [5, 10, 20, 30, 40, 50, 100, 200, 300, 500]\n",
    "\n",
    "comb_array = np.array(np.meshgrid(lr_grid, batch_grid, epochs_grid)).T.reshape(-1, 3)"
   ]
  },
  {
   "cell_type": "code",
   "execution_count": 27,
   "id": "678e003f-3949-4860-ad1d-9968397fef53",
   "metadata": {
    "tags": []
   },
   "outputs": [
    {
     "name": "stderr",
     "output_type": "stream",
     "text": [
      "/Users/smenon/Desktop/BMI203/final-nn-shreya/nn/nn.py:406: RuntimeWarning: overflow encountered in exp\n",
      "  \"\"\"\n"
     ]
    }
   ],
   "source": [
    "tune_grid = []\n",
    "count = 0\n",
    "for i in comb_array:\n",
    "    count += 1 \n",
    "    lr = i[0]\n",
    "    batch_size = i[1]\n",
    "    epochs = int(i[2])\n",
    "    net = nn.NeuralNetwork(layers, lr = lr, seed = 42, batch_size = batch_size, epochs = epochs, loss_function = \"mse\")\n",
    "    train_losses, val_losses = net.fit(X_train, X_train, X_test, X_test)\n",
    "    # We want to save the test loss for the last epoch\n",
    "    test_loss = val_losses[-1]\n",
    "    tune_grid.append([lr, batch_size, epochs, test_loss])"
   ]
  },
  {
   "cell_type": "markdown",
   "id": "0e04824a-97d0-4229-88fe-e612e191f00b",
   "metadata": {},
   "source": [
    "Now, we can look through the tune grid to find the hyperparameters that result in the least test loss. "
   ]
  },
  {
   "cell_type": "code",
   "execution_count": 12,
   "id": "208d123e-e5f3-4ee9-adef-00a3cb475d1a",
   "metadata": {},
   "outputs": [
    {
     "name": "stdout",
     "output_type": "stream",
     "text": [
      "Least MSE on validation data: nan\n",
      "The optimal parameters:lr, batch_size, epochs, test loss: [ 0.1 10.   5.   nan]\n"
     ]
    }
   ],
   "source": [
    "grid = np.array(tune_grid)\n",
    "min_key = np.argmin(grid[:,3])\n",
    "print(\"Least MSE on validation data:\", grid[:,3][min_key])\n",
    "best_para=grid[min_key]\n",
    "print(\"The optimal parameters:lr, batch_size, epochs, test loss:\", best_para)"
   ]
  },
  {
   "cell_type": "markdown",
   "id": "719d555d-b630-4cdc-9a08-653cd76c45c1",
   "metadata": {},
   "source": [
    "Now we will create an instance of the neural network with the hyperparameters we found above and train the network on the training data. "
   ]
  },
  {
   "cell_type": "code",
   "execution_count": 20,
   "id": "377945ee-5066-4977-bc3a-0673d13d78d8",
   "metadata": {},
   "outputs": [],
   "source": [
    "lr = best_para[0]\n",
    "batch_size = best_para[1]\n",
    "epochs = int(best_para[2])\n",
    "net = nn.NeuralNetwork(layers, lr = 0.01, seed = 42, batch_size = 10, epochs = 100, loss_function = \"mse\")\n",
    "train_losses, val_losses = net.fit(X_train, y_train, X_train, y_train)"
   ]
  },
  {
   "cell_type": "code",
   "execution_count": null,
   "id": "ffdc00a9-22b5-4263-83bd-962e75e14bde",
   "metadata": {},
   "outputs": [],
   "source": []
  },
  {
   "cell_type": "markdown",
   "id": "acae9d59-3f10-47ca-9278-a3a75b10faf6",
   "metadata": {},
   "source": [
    "We will then plot the training and validation loss by epoch "
   ]
  },
  {
   "cell_type": "code",
   "execution_count": 21,
   "id": "783aea1c-3986-46c0-b5b3-429a33b5f281",
   "metadata": {},
   "outputs": [
    {
     "data": {
      "image/png": "[encoded data removed]",
      "text/plain": [
       "<Figure size 640x480 with 1 Axes>"
      ]
     },
     "metadata": {},
     "output_type": "display_data"
    }
   ],
   "source": [
    "plt.figure()\n",
    "plt.plot(train_losses)\n",
    "plt.title(\"Training Losses per epoch\")\n",
    "plt.xlabel('Epoch')\n",
    "plt.ylabel('Loss')\n",
    "plt.show()"
   ]
  },
  {
   "cell_type": "code",
   "execution_count": 22,
   "id": "535c8b7f-cd20-4f49-986a-585ea7b452aa",
   "metadata": {},
   "outputs": [
    {
     "data": {
      "image/png": "[encoded data removed]",
      "text/plain": [
       "<Figure size 640x480 with 1 Axes>"
      ]
     },
     "metadata": {},
     "output_type": "display_data"
    }
   ],
   "source": [
    "plt.figure()\n",
    "plt.plot(val_losses)\n",
    "plt.title(\"Validation Losses per epoch\")\n",
    "plt.xlabel('Epoch')\n",
    "plt.ylabel('Loss')\n",
    "plt.show()"
   ]
  },
  {
   "cell_type": "markdown",
   "id": "c6415f56-0f4f-4d0e-8f38-0e54c5997e6c",
   "metadata": {},
   "source": [
    "We can quantify the average reconstruction loss: "
   ]
  },
  {
   "cell_type": "code",
   "execution_count": 24,
   "id": "d442e588-2bdf-4704-8a41-45ce567c0c78",
   "metadata": {},
   "outputs": [
    {
     "name": "stdout",
     "output_type": "stream",
     "text": [
      "427.912254734685\n"
     ]
    },
    {
     "name": "stderr",
     "output_type": "stream",
     "text": [
      "/Users/smenon/Desktop/BMI203/final-nn-shreya/nn/nn.py:406: RuntimeWarning: overflow encountered in exp\n",
      "  \"\"\"\n"
     ]
    }
   ],
   "source": [
    "preds = net.predict(X_test)\n",
    "error = mean_squared_error(X_test, preds)\n",
    "print(error)"
   ]
  },
  {
   "cell_type": "markdown",
   "id": "2b43baa0-38eb-43b8-8d66-f7e5857b1867",
   "metadata": {},
   "source": [
    "I chose the hyperparameters for this model by searching over a grid of possible hyperparameter values. I then selected the combination that had the lowest MSE for the validation set. "
   ]
  },
  {
   "cell_type": "code",
   "execution_count": null,
   "id": "9e00375f-6ba6-4428-8974-11d724644280",
   "metadata": {},
   "outputs": [],
   "source": []
  },
  {
   "cell_type": "code",
   "execution_count": null,
   "id": "3365dbb1-cb45-4c68-befe-5473901666ad",
   "metadata": {},
   "outputs": [],
   "source": []
  },
  {
   "cell_type": "code",
   "execution_count": null,
   "id": "1e7cffa3-afb4-48e9-bc3e-42d4c9e33d21",
   "metadata": {},
   "outputs": [],
   "source": []
  },
  {
   "cell_type": "code",
   "execution_count": null,
   "id": "5a0cd2b4-aaef-478e-9e5e-166f63b823e7",
   "metadata": {},
   "outputs": [],
   "source": []
  },
  {
   "cell_type": "code",
   "execution_count": null,
   "id": "13b53581-f561-4af3-bbee-a05cd194cedf",
   "metadata": {},
   "outputs": [],
   "source": []
  },
  {
   "cell_type": "code",
   "execution_count": null,
   "id": "89f83d68-c8cb-47c5-88eb-2dbb2e995a85",
   "metadata": {},
   "outputs": [],
   "source": []
  },
  {
   "cell_type": "code",
   "execution_count": null,
   "id": "ac7f9bb8-f980-47f6-ac62-6e86bb7eac54",
   "metadata": {},
   "outputs": [],
   "source": []
  },
  {
   "cell_type": "code",
   "execution_count": 100,
   "id": "f5799964-715f-4140-80fd-c2f641a47605",
   "metadata": {},
   "outputs": [],
   "source": []
  },
  {
   "cell_type": "code",
   "execution_count": null,
   "id": "456f0d07-8d93-447c-aeac-c2f4db46a068",
   "metadata": {},
   "outputs": [],
   "source": []
  },
  {
   "cell_type": "code",
   "execution_count": null,
   "id": "ab945548-27a3-4405-a3e0-31a95f076fc1",
   "metadata": {},
   "outputs": [],
   "source": []
  },
  {
   "cell_type": "code",
   "execution_count": 109,
   "id": "be197b2c-e430-4f4e-bb85-963248bc8699",
   "metadata": {},
   "outputs": [],
   "source": []
  },
  {
   "cell_type": "code",
   "execution_count": null,
   "id": "e3f4c763-216f-4d63-9215-e0bbbac058f2",
   "metadata": {},
   "outputs": [],
   "source": []
  },
  {
   "cell_type": "code",
   "execution_count": null,
   "id": "c8d242ea-81f9-4ada-a566-92cd494fc2b9",
   "metadata": {},
   "outputs": [],
   "source": []
  },
  {
   "cell_type": "code",
   "execution_count": 194,
   "id": "0d9c6103-7bdc-47f3-8504-29ba3dd8ef7a",
   "metadata": {},
   "outputs": [],
   "source": []
  },
  {
   "cell_type": "code",
   "execution_count": null,
   "id": "b3a84dda-7c70-44c3-b2bd-17e93d29687f",
   "metadata": {},
   "outputs": [],
   "source": []
  },
  {
   "cell_type": "code",
   "execution_count": 199,
   "id": "fce3f632-435a-4a24-9aad-1819ed9cc4cd",
   "metadata": {},
   "outputs": [],
   "source": []
  },
  {
   "cell_type": "code",
   "execution_count": 203,
   "id": "7e35f141-d593-4334-88f7-add8cdff5b9d",
   "metadata": {},
   "outputs": [],
   "source": []
  },
  {
   "cell_type": "code",
   "execution_count": 206,
   "id": "f51b87a5-bc32-4305-89e7-fe731639106b",
   "metadata": {},
   "outputs": [],
   "source": []
  },
  {
   "cell_type": "code",
   "execution_count": null,
   "id": "9ec8132a-b38e-46ed-aed9-e509fc769ed8",
   "metadata": {},
   "outputs": [],
   "source": []
  },
  {
   "cell_type": "code",
   "execution_count": null,
   "id": "9299c45e-2adc-458c-8eaa-58fc6da15a80",
   "metadata": {},
   "outputs": [],
   "source": []
  },
  {
   "cell_type": "code",
   "execution_count": null,
   "id": "4a1bd660-74c9-48f9-a584-355fd150bd1b",
   "metadata": {},
   "outputs": [],
   "source": []
  },
  {
   "cell_type": "code",
   "execution_count": null,
   "id": "4926eab8-5cbb-465e-bc37-3ecbb4528a49",
   "metadata": {},
   "outputs": [],
   "source": []
  },
  {
   "cell_type": "code",
   "execution_count": null,
   "id": "159221ae-09e2-437e-be5a-61859e0955d4",
   "metadata": {},
   "outputs": [],
   "source": []
  },
  {
   "cell_type": "code",
   "execution_count": null,
   "id": "04a283d0-5720-43a9-97c3-f35b4c09c997",
   "metadata": {},
   "outputs": [],
   "source": []
  }
 ],
 "metadata": {
  "kernelspec": {
   "display_name": "Python [conda env:BMI203]",
   "language": "python",
   "name": "conda-env-BMI203-py"
  },
  "language_info": {
   "codemirror_mode": {
    "name": "ipython",
    "version": 3
   },
   "file_extension": ".py",
   "mimetype": "text/x-python",
   "name": "python",
   "nbconvert_exporter": "python",
   "pygments_lexer": "ipython3",
   "version": "3.10.8"
  }
 },
 "nbformat": 4,
 "nbformat_minor": 5
}
