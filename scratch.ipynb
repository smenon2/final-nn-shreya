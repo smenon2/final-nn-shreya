{
 "cells": [
  {
   "cell_type": "code",
   "execution_count": 16,
   "id": "0881c579-fc00-4887-87f7-416b027deeaf",
   "metadata": {},
   "outputs": [],
   "source": [
    "from numpy.typing import ArrayLike\n",
    "from typing import List, Union\n",
    "\n",
    "import itertools\n",
    "\n",
    "import numpy as np\n",
    "from sklearn import datasets\n",
    "import matplotlib.pyplot as plt\n",
    "\n",
    "from nn import nn, io, preprocess\n",
    "from sklearn.model_selection import train_test_split\n",
    "%load_ext autoreload\n",
    "%autoreload 2"
   ]
  },
  {
   "cell_type": "code",
   "execution_count": 2,
   "id": "495f1477-c671-4da2-9fd5-77d51a9a651c",
   "metadata": {},
   "outputs": [],
   "source": [
    "positive_examples = io.read_text_file('data/rap1-lieb-positives.txt')\n",
    "negative_examples = io.read_fasta_file('data/yeast-upstream-1k-negative.fa')"
   ]
  },
  {
   "cell_type": "code",
   "execution_count": 17,
   "id": "9fcff29a-8606-4250-bc8b-c754ab9efd82",
   "metadata": {},
   "outputs": [
    {
     "name": "stdout",
     "output_type": "stream",
     "text": [
      "{'W1': array([[ 0.04967142, -0.01382643,  0.06476885]]), 'b1': array([[0.15230299]])}\n"
     ]
    }
   ],
   "source": [
    "layers = [{\"input_dim\": 3, \"output_dim\": 1, \"activation\": \"relu\"}]\n",
    "net = nn.NeuralNetwork(nn_arch=layers,\n",
    "                           lr=0.1,\n",
    "                           seed=42,\n",
    "                           batch_size=1,\n",
    "                           epochs=1,\n",
    "                           loss_function=\"mse\")\n",
    "print(net._param_dict)"
   ]
  },
  {
   "cell_type": "code",
   "execution_count": 22,
   "id": "62cf1dde-7479-4259-8c36-3077effe426d",
   "metadata": {},
   "outputs": [
    {
     "data": {
      "text/plain": [
       "array([[0.2019744 ],\n",
       "       [0.13847656],\n",
       "       [0.21707184]])"
      ]
     },
     "execution_count": 22,
     "metadata": {},
     "output_type": "execute_result"
    }
   ],
   "source": [
    "net.predict(1)"
   ]
  },
  {
   "cell_type": "code",
   "execution_count": 21,
   "id": "7ed97ed4-bd0b-44ac-9e43-a7561e4bb3f8",
   "metadata": {},
   "outputs": [
    {
     "data": {
      "text/plain": [
       "0.20197441"
      ]
     },
     "execution_count": 21,
     "metadata": {},
     "output_type": "execute_result"
    }
   ],
   "source": [
    "0.04967142 + 0.15230299"
   ]
  },
  {
   "cell_type": "code",
   "execution_count": 37,
   "id": "0ef9c44d-657a-4cb4-9cea-c10b78cd4e0d",
   "metadata": {},
   "outputs": [],
   "source": [
    "W_curr = np.array([[1,2,3]])\n",
    "Z_curr = np.array([[1]])\n",
    "b_curr = np.array([[2]])\n",
    "A_prev = np.array([[1,2,3]])\n",
    "dA_curr = np.array([[1]])"
   ]
  },
  {
   "cell_type": "code",
   "execution_count": 38,
   "id": "c776c04c-d764-4058-82df-5a573bf6a19d",
   "metadata": {},
   "outputs": [
    {
     "data": {
      "text/plain": [
       "(array([[1., 2., 3.]]), array([[1., 2., 3.]]), array([[1.]]))"
      ]
     },
     "execution_count": 38,
     "metadata": {},
     "output_type": "execute_result"
    }
   ],
   "source": [
    "net._single_backprop(W_curr, b_curr, Z_curr, A_prev, dA_curr, \"relu\")"
   ]
  },
  {
   "cell_type": "code",
   "execution_count": 29,
   "id": "60b49fc9-8b42-4d62-9378-ab3f5314f0a8",
   "metadata": {},
   "outputs": [
    {
     "data": {
      "text/plain": [
       "array([[1., 2., 3.]])"
      ]
     },
     "execution_count": 29,
     "metadata": {},
     "output_type": "execute_result"
    }
   ],
   "source": [
    "dA_prev"
   ]
  },
  {
   "cell_type": "code",
   "execution_count": 46,
   "id": "f051c7ab-a0dd-4627-addf-5e5c689957b3",
   "metadata": {},
   "outputs": [
    {
     "name": "stdout",
     "output_type": "stream",
     "text": [
      "{'W1': array([[0.17640523, 0.04001572, 0.0978738 ]]), 'b1': array([[0.22408932]])}\n"
     ]
    }
   ],
   "source": [
    "net = nn.NeuralNetwork(nn_arch = [{\"input_dim\": 3, \"output_dim\": 1, \"activation\": \"relu\"}],\n",
    "                           lr = 0.1,\n",
    "                           seed = 0,\n",
    "                           batch_size = 1,\n",
    "                           epochs = 1,\n",
    "                           loss_function = \"mse\")\n",
    "\n",
    "print(net._param_dict)\n",
    "output, cache = net.forward(np.array([0, 0, 0]))"
   ]
  },
  {
   "cell_type": "code",
   "execution_count": 49,
   "id": "289421fd-083b-42c3-bb57-66b983b148d0",
   "metadata": {},
   "outputs": [
    {
     "ename": "NameError",
     "evalue": "name 'y_train' is not defined",
     "output_type": "error",
     "traceback": [
      "\u001b[0;31m---------------------------------------------------------------------------\u001b[0m",
      "\u001b[0;31mNameError\u001b[0m                                 Traceback (most recent call last)",
      "Cell \u001b[0;32mIn[49], line 11\u001b[0m\n\u001b[1;32m      6\u001b[0m layers \u001b[38;5;241m=\u001b[39m [{\u001b[38;5;124m\"\u001b[39m\u001b[38;5;124minput_dim\u001b[39m\u001b[38;5;124m\"\u001b[39m: \u001b[38;5;241m68\u001b[39m, \u001b[38;5;124m\"\u001b[39m\u001b[38;5;124moutput_dim\u001b[39m\u001b[38;5;124m\"\u001b[39m: \u001b[38;5;241m34\u001b[39m, \u001b[38;5;124m\"\u001b[39m\u001b[38;5;124mactivation\u001b[39m\u001b[38;5;124m\"\u001b[39m: \u001b[38;5;124m\"\u001b[39m\u001b[38;5;124msigmoid\u001b[39m\u001b[38;5;124m\"\u001b[39m},\n\u001b[1;32m      7\u001b[0m           {\u001b[38;5;124m\"\u001b[39m\u001b[38;5;124minput_dim\u001b[39m\u001b[38;5;124m\"\u001b[39m: \u001b[38;5;241m34\u001b[39m, \u001b[38;5;124m\"\u001b[39m\u001b[38;5;124moutput_dim\u001b[39m\u001b[38;5;124m\"\u001b[39m: \u001b[38;5;241m17\u001b[39m, \u001b[38;5;124m\"\u001b[39m\u001b[38;5;124mactivation\u001b[39m\u001b[38;5;124m\"\u001b[39m: \u001b[38;5;124m\"\u001b[39m\u001b[38;5;124msigmoid\u001b[39m\u001b[38;5;124m\"\u001b[39m},\n\u001b[1;32m      8\u001b[0m           {\u001b[38;5;124m\"\u001b[39m\u001b[38;5;124minput_dim\u001b[39m\u001b[38;5;124m\"\u001b[39m: \u001b[38;5;241m17\u001b[39m, \u001b[38;5;124m\"\u001b[39m\u001b[38;5;124moutput_dim\u001b[39m\u001b[38;5;124m\"\u001b[39m: \u001b[38;5;241m1\u001b[39m, \u001b[38;5;124m\"\u001b[39m\u001b[38;5;124mactivation\u001b[39m\u001b[38;5;124m\"\u001b[39m: \u001b[38;5;124m\"\u001b[39m\u001b[38;5;124msigmoid\u001b[39m\u001b[38;5;124m\"\u001b[39m},]\n\u001b[1;32m     10\u001b[0m \u001b[38;5;66;03m# Need to reshape the y values in order to fit through net\u001b[39;00m\n\u001b[0;32m---> 11\u001b[0m y_train \u001b[38;5;241m=\u001b[39m \u001b[43my_train\u001b[49m\u001b[38;5;241m.\u001b[39mreshape(\u001b[38;5;241m-\u001b[39m\u001b[38;5;241m1\u001b[39m, \u001b[38;5;241m1\u001b[39m)\n\u001b[1;32m     12\u001b[0m y_test \u001b[38;5;241m=\u001b[39m y_test\u001b[38;5;241m.\u001b[39mreshape(\u001b[38;5;241m-\u001b[39m\u001b[38;5;241m1\u001b[39m, \u001b[38;5;241m1\u001b[39m)\n",
      "\u001b[0;31mNameError\u001b[0m: name 'y_train' is not defined"
     ]
    }
   ],
   "source": [
    "lr_grid = [1e-4, 1e-5, 1e-6]\n",
    "batch_grid = [10, 50, 500]\n",
    "epochs_grid = [5, 10, 20]\n",
    "\n",
    "comb_array = np.array(np.meshgrid(lr_grid, batch_grid, epochs_grid)).T.reshape(-1, 3)\n",
    "layers = [{\"input_dim\": 68, \"output_dim\": 34, \"activation\": \"sigmoid\"},\n",
    "          {\"input_dim\": 34, \"output_dim\": 17, \"activation\": \"sigmoid\"},\n",
    "          {\"input_dim\": 17, \"output_dim\": 1, \"activation\": \"sigmoid\"},]\n",
    "\n",
    "# Need to reshape the y values in order to fit through net\n",
    "y_train = y_train.reshape(-1, 1)\n",
    "y_test = y_test.reshape(-1, 1)"
   ]
  },
  {
   "cell_type": "code",
   "execution_count": 50,
   "id": "35b4691d-8788-4cf8-be1b-628bd26096b6",
   "metadata": {},
   "outputs": [
    {
     "data": {
      "text/plain": [
       "27"
      ]
     },
     "execution_count": 50,
     "metadata": {},
     "output_type": "execute_result"
    }
   ],
   "source": [
    "len(comb_array)"
   ]
  },
  {
   "cell_type": "code",
   "execution_count": null,
   "id": "57402a00-6b4b-4fa3-b06f-2a46cd1c98c5",
   "metadata": {},
   "outputs": [],
   "source": []
  },
  {
   "cell_type": "code",
   "execution_count": null,
   "id": "be5dd6d3-65b5-4016-a283-e4de36009b1f",
   "metadata": {},
   "outputs": [],
   "source": []
  },
  {
   "cell_type": "code",
   "execution_count": null,
   "id": "06a45127-5fe5-468a-aea0-d9ce11b6218d",
   "metadata": {},
   "outputs": [],
   "source": []
  },
  {
   "cell_type": "code",
   "execution_count": null,
   "id": "ee6a1605-5bf3-467c-9721-ec725353922c",
   "metadata": {},
   "outputs": [],
   "source": []
  },
  {
   "cell_type": "code",
   "execution_count": null,
   "id": "e64975a2-abb0-4d5a-8683-38d85a1708f0",
   "metadata": {},
   "outputs": [],
   "source": []
  },
  {
   "cell_type": "code",
   "execution_count": null,
   "id": "0d0931c2-d43c-4e6e-a68c-09d2cdcbd29d",
   "metadata": {},
   "outputs": [],
   "source": []
  },
  {
   "cell_type": "code",
   "execution_count": null,
   "id": "a8468eda-e3a6-47b6-a1d0-dab7a11629d4",
   "metadata": {},
   "outputs": [],
   "source": []
  },
  {
   "cell_type": "code",
   "execution_count": null,
   "id": "fa20a626-dae6-42fd-a5b1-13e7d5182376",
   "metadata": {},
   "outputs": [],
   "source": []
  },
  {
   "cell_type": "code",
   "execution_count": null,
   "id": "8bfeebe4-37e7-436e-80a9-3a11646e573e",
   "metadata": {},
   "outputs": [],
   "source": []
  },
  {
   "cell_type": "code",
   "execution_count": null,
   "id": "831f5fb2-a829-4de5-aa63-1c030252bd69",
   "metadata": {},
   "outputs": [],
   "source": []
  },
  {
   "cell_type": "code",
   "execution_count": null,
   "id": "415a9ab9-bec1-4b08-a437-63e9c7458453",
   "metadata": {},
   "outputs": [],
   "source": []
  },
  {
   "cell_type": "code",
   "execution_count": null,
   "id": "79d3f4d0-9a4f-4ebd-a3df-052b8cd73d49",
   "metadata": {},
   "outputs": [],
   "source": []
  },
  {
   "cell_type": "code",
   "execution_count": null,
   "id": "3ab387c2-dece-4cda-bbf9-3b993f6b2a68",
   "metadata": {},
   "outputs": [],
   "source": []
  },
  {
   "cell_type": "code",
   "execution_count": null,
   "id": "0f845f1f-da43-4dde-bcff-5f53b0dab150",
   "metadata": {},
   "outputs": [],
   "source": []
  },
  {
   "cell_type": "code",
   "execution_count": null,
   "id": "894602fc-a8b3-49c4-857e-fc944f9fab86",
   "metadata": {},
   "outputs": [],
   "source": []
  },
  {
   "cell_type": "code",
   "execution_count": null,
   "id": "78916245-038e-4f9f-92f3-8117c9709e49",
   "metadata": {},
   "outputs": [],
   "source": []
  },
  {
   "cell_type": "code",
   "execution_count": null,
   "id": "631a9a6f-0e4c-4a02-9c53-f27529fb30c4",
   "metadata": {},
   "outputs": [],
   "source": []
  },
  {
   "cell_type": "code",
   "execution_count": null,
   "id": "07387ace-921b-4457-b59d-e46cf90793ff",
   "metadata": {},
   "outputs": [],
   "source": []
  },
  {
   "cell_type": "code",
   "execution_count": null,
   "id": "80f19824-6a2f-4c9d-98df-261995385d31",
   "metadata": {},
   "outputs": [],
   "source": []
  },
  {
   "cell_type": "code",
   "execution_count": null,
   "id": "2ef21208-4f8f-44a4-b599-3b52711fef55",
   "metadata": {},
   "outputs": [],
   "source": []
  },
  {
   "cell_type": "code",
   "execution_count": 2,
   "id": "ef22f95b-5bc2-410e-ac86-4b58c3e25a30",
   "metadata": {},
   "outputs": [],
   "source": []
  },
  {
   "cell_type": "code",
   "execution_count": null,
   "id": "4018600a-f95d-4497-ab36-3db873d3d4ab",
   "metadata": {},
   "outputs": [],
   "source": []
  },
  {
   "cell_type": "code",
   "execution_count": null,
   "id": "ecbf70f5-19c0-4418-afe0-fefeb77f57a5",
   "metadata": {},
   "outputs": [],
   "source": []
  },
  {
   "cell_type": "code",
   "execution_count": 9,
   "id": "3109f01d-34f1-4229-87d0-1c6c12e8be71",
   "metadata": {},
   "outputs": [],
   "source": []
  },
  {
   "cell_type": "code",
   "execution_count": null,
   "id": "8aca7d4e-e634-44e1-96e4-b8cacf84b10a",
   "metadata": {},
   "outputs": [],
   "source": []
  },
  {
   "cell_type": "code",
   "execution_count": null,
   "id": "bfb424a9-a202-4056-8eff-78286495e6fc",
   "metadata": {},
   "outputs": [],
   "source": []
  },
  {
   "cell_type": "code",
   "execution_count": null,
   "id": "00c150f5-2f71-4e04-90a7-3141dae25de9",
   "metadata": {},
   "outputs": [],
   "source": []
  }
 ],
 "metadata": {
  "kernelspec": {
   "display_name": "Python [conda env:BMI203]",
   "language": "python",
   "name": "conda-env-BMI203-py"
  },
  "language_info": {
   "codemirror_mode": {
    "name": "ipython",
    "version": 3
   },
   "file_extension": ".py",
   "mimetype": "text/x-python",
   "name": "python",
   "nbconvert_exporter": "python",
   "pygments_lexer": "ipython3",
   "version": "3.10.8"
  }
 },
 "nbformat": 4,
 "nbformat_minor": 5
}
