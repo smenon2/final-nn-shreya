{
 "cells": [
  {
   "cell_type": "code",
   "execution_count": 16,
   "id": "0881c579-fc00-4887-87f7-416b027deeaf",
   "metadata": {},
   "outputs": [],
   "source": [
    "from numpy.typing import ArrayLike\n",
    "from typing import List, Union\n",
    "\n",
    "import itertools\n",
    "\n",
    "import numpy as np\n",
    "from sklearn import datasets\n",
    "import matplotlib.pyplot as plt\n",
    "\n",
    "from nn import nn, io, preprocess\n",
    "from sklearn.model_selection import train_test_split\n",
    "%load_ext autoreload\n",
    "%autoreload 2"
   ]
  },
  {
   "cell_type": "code",
   "execution_count": 2,
   "id": "495f1477-c671-4da2-9fd5-77d51a9a651c",
   "metadata": {},
   "outputs": [],
   "source": [
    "positive_examples = io.read_text_file('data/rap1-lieb-positives.txt')\n",
    "negative_examples = io.read_fasta_file('data/yeast-upstream-1k-negative.fa')"
   ]
  },
  {
   "cell_type": "code",
   "execution_count": 17,
   "id": "9fcff29a-8606-4250-bc8b-c754ab9efd82",
   "metadata": {},
   "outputs": [
    {
     "name": "stdout",
     "output_type": "stream",
     "text": [
      "{'W1': array([[ 0.04967142, -0.01382643,  0.06476885]]), 'b1': array([[0.15230299]])}\n"
     ]
    }
   ],
   "source": [
    "layers = [{\"input_dim\": 3, \"output_dim\": 1, \"activation\": \"relu\"}]\n",
    "net = nn.NeuralNetwork(nn_arch=layers,\n",
    "                           lr=0.1,\n",
    "                           seed=42,\n",
    "                           batch_size=1,\n",
    "                           epochs=1,\n",
    "                           loss_function=\"mse\")\n",
    "print(net._param_dict)"
   ]
  },
  {
   "cell_type": "code",
   "execution_count": 22,
   "id": "62cf1dde-7479-4259-8c36-3077effe426d",
   "metadata": {},
   "outputs": [
    {
     "data": {
      "text/plain": [
       "array([[0.2019744 ],\n",
       "       [0.13847656],\n",
       "       [0.21707184]])"
      ]
     },
     "execution_count": 22,
     "metadata": {},
     "output_type": "execute_result"
    }
   ],
   "source": [
    "net.predict(1)"
   ]
  },
  {
   "cell_type": "code",
   "execution_count": 21,
   "id": "7ed97ed4-bd0b-44ac-9e43-a7561e4bb3f8",
   "metadata": {},
   "outputs": [
    {
     "data": {
      "text/plain": [
       "0.20197441"
      ]
     },
     "execution_count": 21,
     "metadata": {},
     "output_type": "execute_result"
    }
   ],
   "source": [
    "0.04967142 + 0.15230299"
   ]
  },
  {
   "cell_type": "code",
   "execution_count": 37,
   "id": "0ef9c44d-657a-4cb4-9cea-c10b78cd4e0d",
   "metadata": {},
   "outputs": [],
   "source": [
    "W_curr = np.array([[1,2,3]])\n",
    "Z_curr = np.array([[1]])\n",
    "b_curr = np.array([[2]])\n",
    "A_prev = np.array([[1,2,3]])\n",
    "dA_curr = np.array([[1]])"
   ]
  },
  {
   "cell_type": "code",
   "execution_count": 38,
   "id": "c776c04c-d764-4058-82df-5a573bf6a19d",
   "metadata": {},
   "outputs": [
    {
     "data": {
      "text/plain": [
       "(array([[1., 2., 3.]]), array([[1., 2., 3.]]), array([[1.]]))"
      ]
     },
     "execution_count": 38,
     "metadata": {},
     "output_type": "execute_result"
    }
   ],
   "source": [
    "net._single_backprop(W_curr, b_curr, Z_curr, A_prev, dA_curr, \"relu\")"
   ]
  },
  {
   "cell_type": "code",
   "execution_count": 29,
   "id": "60b49fc9-8b42-4d62-9378-ab3f5314f0a8",
   "metadata": {},
   "outputs": [
    {
     "data": {
      "text/plain": [
       "array([[1., 2., 3.]])"
      ]
     },
     "execution_count": 29,
     "metadata": {},
     "output_type": "execute_result"
    }
   ],
   "source": [
    "dA_prev"
   ]
  },
  {
   "cell_type": "code",
   "execution_count": 46,
   "id": "f051c7ab-a0dd-4627-addf-5e5c689957b3",
   "metadata": {},
   "outputs": [
    {
     "name": "stdout",
     "output_type": "stream",
     "text": [
      "{'W1': array([[0.17640523, 0.04001572, 0.0978738 ]]), 'b1': array([[0.22408932]])}\n"
     ]
    }
   ],
   "source": [
    "net = nn.NeuralNetwork(nn_arch = [{\"input_dim\": 3, \"output_dim\": 1, \"activation\": \"relu\"}],\n",
    "                           lr = 0.1,\n",
    "                           seed = 0,\n",
    "                           batch_size = 1,\n",
    "                           epochs = 1,\n",
    "                           loss_function = \"mse\")\n",
    "\n",
    "print(net._param_dict)\n",
    "output, cache = net.forward(np.array([0, 0, 0]))"
   ]
  },
  {
   "cell_type": "code",
   "execution_count": 47,
   "id": "289421fd-083b-42c3-bb57-66b983b148d0",
   "metadata": {},
   "outputs": [
    {
     "data": {
      "text/plain": [
       "array([[0.22408932]])"
      ]
     },
     "execution_count": 47,
     "metadata": {},
     "output_type": "execute_result"
    }
   ],
   "source": [
    "output"
   ]
  },
  {
   "cell_type": "code",
   "execution_count": 48,
   "id": "35b4691d-8788-4cf8-be1b-628bd26096b6",
   "metadata": {},
   "outputs": [
    {
     "data": {
      "text/plain": [
       "{'A0': array([0, 0, 0]),\n",
       " 'A1': array([[0.22408932]]),\n",
       " 'Z1': array([[0.22408932]])}"
      ]
     },
     "execution_count": 48,
     "metadata": {},
     "output_type": "execute_result"
    }
   ],
   "source": [
    "cache"
   ]
  },
  {
   "cell_type": "code",
   "execution_count": null,
   "id": "57402a00-6b4b-4fa3-b06f-2a46cd1c98c5",
   "metadata": {},
   "outputs": [],
   "source": []
  },
  {
   "cell_type": "code",
   "execution_count": null,
   "id": "be5dd6d3-65b5-4016-a283-e4de36009b1f",
   "metadata": {},
   "outputs": [],
   "source": []
  },
  {
   "cell_type": "code",
   "execution_count": null,
   "id": "06a45127-5fe5-468a-aea0-d9ce11b6218d",
   "metadata": {},
   "outputs": [],
   "source": []
  },
  {
   "cell_type": "code",
   "execution_count": null,
   "id": "ee6a1605-5bf3-467c-9721-ec725353922c",
   "metadata": {},
   "outputs": [],
   "source": []
  },
  {
   "cell_type": "code",
   "execution_count": null,
   "id": "e64975a2-abb0-4d5a-8683-38d85a1708f0",
   "metadata": {},
   "outputs": [],
   "source": [
    "from sklearn.datasets import load_digits\n",
    "from sklearn.model_selection import train_test_split\n",
    "digits = load_digits()\n",
    "X_all = digits.data\n",
    "y_all = digits.target\n",
    "X_train, X_test, y_train, y_test = train_test_split(X_all, y_all, test_size=0.2, random_state=0)\n",
    "layers = [{\"input_dim\": 64, \"output_dim\": 16,},\n",
    "          {\"input_dim\": 16, \"output_dim\": 64,}]\n",
    "net = NeuralNetwork(layers, lr = 0.0001, seed = 42, batch_size = 100, epochs = 100, loss_function = \"mse\",activations = [None, None])\n",
    "train_losses, val_losses = net.fit(X_train, y_train, X_test, y_test)\n",
    "plt.plot(train_losses, label='Train losses')\n",
    "plt.plot(val_losses, label='Test losses')\n",
    "_ = plt.title('Train/test losses for best performing network')\n",
    "_ = plt.grid()\n",
    "_ = plt.legend()\n",
    "_ = plt.xlabel('Epochs')\n",
    "_ = plt.ylabel('Average MSE loss over epoch')"
   ]
  },
  {
   "cell_type": "code",
   "execution_count": null,
   "id": "7b0c916c-52fb-47a0-9af1-7198447c8f96",
   "metadata": {},
   "outputs": [],
   "source": [
    "pred = net.predict(X_test)\n",
    "fig, ax = plt.subplots(1, 2, figsize = (12, 4))\n",
    "ax[0].matshow(X_test[1].reshape((8, 8)))\n",
    "ax[0].set_title(\"Actual\")\n",
    "ax[1].matshow(pred[1].reshape((8, 8)))\n",
    "ax[1].set_title(\"Reconstructed\")"
   ]
  },
  {
   "cell_type": "code",
   "execution_count": null,
   "id": "0d0931c2-d43c-4e6e-a68c-09d2cdcbd29d",
   "metadata": {},
   "outputs": [],
   "source": [
    "y_test = y_test.reshape(-1, 1)"
   ]
  },
  {
   "cell_type": "code",
   "execution_count": null,
   "id": "a8468eda-e3a6-47b6-a1d0-dab7a11629d4",
   "metadata": {},
   "outputs": [],
   "source": [
    "y_test.shape"
   ]
  },
  {
   "cell_type": "code",
   "execution_count": null,
   "id": "fa20a626-dae6-42fd-a5b1-13e7d5182376",
   "metadata": {},
   "outputs": [],
   "source": [
    "pred"
   ]
  },
  {
   "cell_type": "code",
   "execution_count": null,
   "id": "8bfeebe4-37e7-436e-80a9-3a11646e573e",
   "metadata": {},
   "outputs": [],
   "source": [
    "arch = [{'input_dim': 64, 'output_dim': 16}, {'input_dim': 16, 'output_dim': 64}]\n",
    "seed = 0\n",
    "network = NeuralNetwork(arch, 0.1,seed, 50, 100, 'mse', activations=['sigmoid', None]) "
   ]
  },
  {
   "cell_type": "code",
   "execution_count": null,
   "id": "831f5fb2-a829-4de5-aa63-1c030252bd69",
   "metadata": {},
   "outputs": [],
   "source": [
    "train_losses, val_losses = net.fit(X_train, y_train, X_test, y_test)"
   ]
  },
  {
   "cell_type": "code",
   "execution_count": null,
   "id": "415a9ab9-bec1-4b08-a437-63e9c7458453",
   "metadata": {},
   "outputs": [],
   "source": []
  },
  {
   "cell_type": "code",
   "execution_count": null,
   "id": "79d3f4d0-9a4f-4ebd-a3df-052b8cd73d49",
   "metadata": {},
   "outputs": [],
   "source": [
    "loss_across_dataset = net._eval_loader(X_test, y_test, train=False)\n",
    "loss_across_dataset = np.round(loss_across_dataset, 3)\n",
    "print(f'Average loss across dataset: {loss_across_dataset}')"
   ]
  },
  {
   "cell_type": "code",
   "execution_count": null,
   "id": "3ab387c2-dece-4cda-bbf9-3b993f6b2a68",
   "metadata": {},
   "outputs": [],
   "source": [
    "from nn import nn\n",
    "X_all = digits.data\n",
    "y_all = digits.target\n",
    "X_train, X_test, y_train, y_test = train_test_split(X_all, y_all, test_size=0.33, random_state=0)"
   ]
  },
  {
   "cell_type": "code",
   "execution_count": null,
   "id": "0f845f1f-da43-4dde-bcff-5f53b0dab150",
   "metadata": {},
   "outputs": [],
   "source": [
    "arch = [{'input_dim': 64, 'output_dim': 16}, {'input_dim': 16, 'output_dim': 64}]\n",
    "seed = 0\n",
    "net = NeuralNetwork(layers, lr = 0.0001, seed = 42, batch_size = 100, epochs = 100, loss_function = \"mse\",activations = [\"sigmoid\", \"sigmoid\"])\n",
    "train_losses, val_losses = net.fit(X_train, X_train, X_test, X_test)\n",
    "plt.plot(train_losses, label='Train losses')\n",
    "plt.plot(val_losses, label='Test losses')\n",
    "_ = plt.title('Train/test losses for best performing network')\n",
    "_ = plt.grid()\n",
    "_ = plt.legend()\n",
    "_ = plt.xlabel('Epochs')\n",
    "_ = plt.ylabel('Average MSE loss over epoch')\n",
    "pred = net.predict(X_test)\n",
    "print(f\"Average error over the validation set: {net._mean_squared_error(y_test, pred)}\")\n",
    "fig, ax = plt.subplots(1, 2, figsize = (12, 4))\n",
    "ax[0].matshow(X_test[1].reshape((8, 8)))\n",
    "ax[0].set_title(\"Actual\")\n",
    "ax[1].matshow(pred[1].reshape((8, 8)))\n",
    "ax[1].set_title(\"Reconstructed\")"
   ]
  },
  {
   "cell_type": "code",
   "execution_count": null,
   "id": "894602fc-a8b3-49c4-857e-fc944f9fab86",
   "metadata": {},
   "outputs": [],
   "source": [
    "arch = [{'input_dim': 64, 'output_dim': 16}, {'input_dim': 16, 'output_dim': 64}]\n",
    "seed = 0\n",
    "net = NeuralNetwork(layers, lr = 0.0001, seed = 42, batch_size = 100, epochs = 100, loss_function = \"mse\",activations = [\"sigmoid\", \"sigmoid\"])\n",
    "train_losses, val_losses = net.fit(X_train, y_train, X_test, y_test"
   ]
  },
  {
   "cell_type": "code",
   "execution_count": null,
   "id": "78916245-038e-4f9f-92f3-8117c9709e49",
   "metadata": {},
   "outputs": [],
   "source": [
    "layers = [{\"input_dim\": 64, \"output_dim\": 16, \"activation\": \"sigmoid\"},\n",
    "          {\"input_dim\": 16, \"output_dim\": 64, \"activation\": \"sigmoid\"}]\n",
    "net1 = nn.NeuralNetwork(layers, lr = 0.0001, seed = 42, batch_size = 100, epochs = 100, loss_function = \"mse\")\n",
    "train_losses, val_losses = net1.fit(X_train, y_train, X_test, y_test)\n"
   ]
  },
  {
   "cell_type": "code",
   "execution_count": null,
   "id": "631a9a6f-0e4c-4a02-9c53-f27529fb30c4",
   "metadata": {},
   "outputs": [],
   "source": [
    "plt.plot(train_losses, label='Train losses')\n",
    "plt.plot(val_losses, label='Test losses')\n",
    "_ = plt.title('Train/test losses for best performing network')\n",
    "_ = plt.grid()\n",
    "_ = plt.legend()\n",
    "_ = plt.xlabel('Epochs')\n",
    "_ = plt.ylabel('Average MSE loss over epoch')"
   ]
  },
  {
   "cell_type": "code",
   "execution_count": null,
   "id": "07387ace-921b-4457-b59d-e46cf90793ff",
   "metadata": {},
   "outputs": [],
   "source": [
    "from sklearn.metrics import mean_squared_error\n",
    "pred = net.predict(X_test)"
   ]
  },
  {
   "cell_type": "code",
   "execution_count": null,
   "id": "80f19824-6a2f-4c9d-98df-261995385d31",
   "metadata": {},
   "outputs": [],
   "source": [
    "mean_squared_error(pred,X_test)"
   ]
  },
  {
   "cell_type": "code",
   "execution_count": null,
   "id": "2ef21208-4f8f-44a4-b599-3b52711fef55",
   "metadata": {},
   "outputs": [],
   "source": [
    "len(X_train)"
   ]
  },
  {
   "cell_type": "code",
   "execution_count": 2,
   "id": "ef22f95b-5bc2-410e-ac86-4b58c3e25a30",
   "metadata": {},
   "outputs": [],
   "source": [
    "import numpy as np"
   ]
  },
  {
   "cell_type": "code",
   "execution_count": 12,
   "id": "4018600a-f95d-4497-ab36-3db873d3d4ab",
   "metadata": {},
   "outputs": [],
   "source": [
    "y = np.array([1, 1, 1, 1])\n",
    "y_hat = np.array([0.5, 0.5, 0.5, 0.5])"
   ]
  },
  {
   "cell_type": "code",
   "execution_count": 14,
   "id": "ecbf70f5-19c0-4418-afe0-fefeb77f57a5",
   "metadata": {},
   "outputs": [
    {
     "data": {
      "text/plain": [
       "0.6931471805599453"
      ]
     },
     "execution_count": 14,
     "metadata": {},
     "output_type": "execute_result"
    }
   ],
   "source": [
    "(-(y * np.log(y_hat)) - ((1 - y) * np.log(1 - y_hat))).mean()"
   ]
  },
  {
   "cell_type": "code",
   "execution_count": 9,
   "id": "3109f01d-34f1-4229-87d0-1c6c12e8be71",
   "metadata": {},
   "outputs": [],
   "source": []
  },
  {
   "cell_type": "code",
   "execution_count": 10,
   "id": "8aca7d4e-e634-44e1-96e4-b8cacf84b10a",
   "metadata": {},
   "outputs": [
    {
     "data": {
      "text/plain": [
       "array([-0.5, -0.5, -0.5, -0.5])"
      ]
     },
     "execution_count": 10,
     "metadata": {},
     "output_type": "execute_result"
    }
   ],
   "source": [
    "dA"
   ]
  },
  {
   "cell_type": "code",
   "execution_count": 11,
   "id": "bfb424a9-a202-4056-8eff-78286495e6fc",
   "metadata": {},
   "outputs": [
    {
     "data": {
      "text/plain": [
       "-2"
      ]
     },
     "execution_count": 11,
     "metadata": {},
     "output_type": "execute_result"
    }
   ],
   "source": [
    "0-2"
   ]
  },
  {
   "cell_type": "code",
   "execution_count": null,
   "id": "00c150f5-2f71-4e04-90a7-3141dae25de9",
   "metadata": {},
   "outputs": [],
   "source": []
  }
 ],
 "metadata": {
  "kernelspec": {
   "display_name": "Python [conda env:BMI203]",
   "language": "python",
   "name": "conda-env-BMI203-py"
  },
  "language_info": {
   "codemirror_mode": {
    "name": "ipython",
    "version": 3
   },
   "file_extension": ".py",
   "mimetype": "text/x-python",
   "name": "python",
   "nbconvert_exporter": "python",
   "pygments_lexer": "ipython3",
   "version": "3.10.8"
  }
 },
 "nbformat": 4,
 "nbformat_minor": 5
}
